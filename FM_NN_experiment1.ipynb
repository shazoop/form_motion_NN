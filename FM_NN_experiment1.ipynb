{
 "cells": [
  {
   "cell_type": "code",
   "execution_count": 1,
   "id": "90a38db6",
   "metadata": {},
   "outputs": [],
   "source": [
    "import numpy as np\n",
    "import torch\n",
    "import torch.nn as nn\n",
    "import torch.nn.functional as F\n",
    "import torchvision\n",
    "import torchvision.datasets as datasets\n",
    "import torchvision.transforms as transforms\n",
    "import random as rand\n",
    "import copy"
   ]
  },
  {
   "cell_type": "code",
   "execution_count": 4,
   "id": "8630789f",
   "metadata": {},
   "outputs": [],
   "source": [
    "class Disentangler(nn.Module): \n",
    "    def __init__(self,encoder,decoder, transnet):\n",
    "        super(Disentangler,self).__init__()\n",
    "        self.encoder = encoder\n",
    "        self.decoder = decoder\n",
    "        self.transnet = transnet #estimates trans parameters, contains exponential weights, creates matrices\n",
    "        \n",
    "    def forward(self,x, x0=None):\n",
    "        if x0 == None:\n",
    "            y = self.encoder(x)\n",
    "            s = torch.zeros(x.size(0), self.encoder.latent_dim)\n",
    "        else:\n",
    "            y, s = self.transnet(x,x0)\n",
    "        z = self.decoder(y)\n",
    "        return z,y,s\n",
    "\n",
    "class Encoder(nn.Module):\n",
    "    def __init__(self, og_dim, latent_dim): #if images are nXn, og_dim = n^2.\n",
    "        assert latent_dim <= og_dim, 'latent space must have lower dimension'\n",
    "        super(Encoder,self).__init__()\n",
    "        self.og_dim = og_dim\n",
    "        self.latent_dim = latent_dim\n",
    "        self.fc1 = nn.Linear(og_dim, max(latent_dim, og_dim//4))\n",
    "        self.fc2 = nn.Linear(max(latent_dim, og_dim//4), max(latent_dim, og_dim//16))\n",
    "        self.fc3 = nn.Linear(max(latent_dim, og_dim//16), latent_dim)\n",
    "    \n",
    "    def forward(self,x):\n",
    "        x = self.fc1(x)\n",
    "        x = F.relu(x)\n",
    "        x = self.fc2(x)\n",
    "        x = F.relu(x)\n",
    "        x = self.fc3(x)\n",
    "        return x\n",
    "\n",
    "class Decoder(nn.Module):  \n",
    "    def __init__(self, og_dim, latent_dim):\n",
    "        assert latent_dim <= og_dim, 'latent space must have lower dimension'\n",
    "        super(Decoder,self).__init__()\n",
    "        self.og_dim = og_dim\n",
    "        self.latent_dim = latent_dim\n",
    "        self.fc1 = nn.Linear(latent_dim, max(latent_dim, og_dim//16))\n",
    "        self.fc2 = nn.Linear(max(latent_dim, og_dim//16), max(latent_dim, og_dim//4))\n",
    "        self.fc3 = nn.Linear(max(latent_dim, og_dim//4), og_dim)\n",
    "    \n",
    "    def forward(self,x):\n",
    "        x = self.fc1(x)\n",
    "        x = F.relu(x)\n",
    "        x = self.fc2(x)\n",
    "        x = F.relu(x)\n",
    "        x = self.fc3(x)\n",
    "        return x\n",
    "    \n",
    "class Transnet(nn.Module):\n",
    "    def __init__(self, og_dim, latent_dim, trans_dim):\n",
    "        super(Transnet,self).__init__()\n",
    "        assert latent_dim <= og_dim, 'latent space must have lower dimension'\n",
    "        assert trans_dim <= latent_dim, 'translation dimension must be subspace'\n",
    "        self.og_dim = og_dim\n",
    "        self.latent_dim = latent_dim\n",
    "        self.trans_dim = trans_dim\n",
    "        ttl_dim = og_dim + latent_dim\n",
    "        self.ttl_dim = ttl_dim\n",
    "        self.fc1 = nn.Linear(ttl_dim, max(latent_dim, ttl_dim//4))\n",
    "        self.fc2 = nn.Linear(max(latent_dim, ttl_dim//4), max(latent_dim, ttl_dim//16))\n",
    "        self.fc3 = nn.Linear(max(latent_dim, ttl_dim//16), max(latent_dim, ttl_dim//64))\n",
    "        self.fc4 = nn.Linear(max(latent_dim, ttl_dim//64), trans_dim)\n",
    "        \n",
    "    def forward(self,x,x0):\n",
    "        x1 = torch.cat((x,x0),dim = 1) #create (B, N+M) tensor\n",
    "        x1 = self.fc1(x1)\n",
    "        x1 = F.relu(x1)\n",
    "        x1 = self.fc2(x1)\n",
    "        x1 = F.relu(x1)\n",
    "        x1 = self.fc3(x1)\n",
    "        x1 = F.relu(x1)\n",
    "        x1 = self.fc4(x1)\n",
    "        trans = torch.cat((x1,torch.zeros(x.size(0),self.latent_dim - self.trans_dim).to(device)), dim = 1)\n",
    "        x0 = x0 + trans\n",
    "        return x0, x1\n",
    "        \n",
    "class Autoencoder(nn.Module): \n",
    "    def __init__(self,encoder,decoder):\n",
    "        super(Autoencoder,self).__init__()\n",
    "        self.encoder = encoder\n",
    "        self.decoder = decoder\n",
    "        \n",
    "    def forward(self,x, x0=None):    \n",
    "        x=self.encoder(x)\n",
    "        x = self.decoder(x)\n",
    "        return x\n",
    "   "
   ]
  },
  {
   "cell_type": "code",
   "execution_count": 5,
   "id": "8aa69a0b",
   "metadata": {},
   "outputs": [],
   "source": [
    "def make_model(og_dim, latent_dim, trans_dim):\n",
    "    enc = Encoder(og_dim, latent_dim)\n",
    "    dec = Decoder(og_dim, latent_dim)\n",
    "    trans = Transnet(og_dim, latent_dim, trans_dim)\n",
    "    model = Disentangler(enc,dec,trans)\n",
    "    return model\n",
    "\n",
    "def make_autoenc(og_dim,latent_dim):\n",
    "    enc = Encoder(og_dim, latent_dim)\n",
    "    dec = Decoder(og_dim, latent_dim)\n",
    "    model = Autoencoder(enc,dec)\n",
    "    return model\n"
   ]
  },
  {
   "cell_type": "code",
   "execution_count": 34,
   "id": "44fec6c2",
   "metadata": {},
   "outputs": [],
   "source": [
    "def train(print_interval, model, device, train_loader, optimizer, epoch, movie_len, transform_set, beta = .7, sparse_par = 1e-2, opt_interval = 6): #transforms is \n",
    "    model.train()\n",
    "    for epoch in range(epoch):\n",
    "        for batch_idx, (data, target) in enumerate(train_loader):\n",
    "            B = data.size(0)\n",
    "            if movie_len != 0:    \n",
    "                if batch_idx % opt_interval == 0:\n",
    "                    for param in model.parameters():\n",
    "                        param.requires_grad = False\n",
    "                    for param in model.transnet.parameters():\n",
    "                        param.requires_grad = True\n",
    "\n",
    "                else:\n",
    "                        for param in model.parameters():\n",
    "                            param.requires_grad = True\n",
    "                        for param in model.transnet.parameters():\n",
    "                            param.requires_grad = False\n",
    "            loss = 0\n",
    "            optimizer.zero_grad()\n",
    "            for i in range(movie_len):\n",
    "                if i == 0:\n",
    "                    transform = rand.choice(transform_set)\n",
    "                    prev_frame = curr_frame = data\n",
    "                    curr_frame = curr_frame.flatten(1).to(device)\n",
    "                    output, latent_rep, trans_par = model(curr_frame)\n",
    "#                     latent_rep = latent_rep.detach().clone()\n",
    "#                     latent_rep = latent_rep.to(device)\n",
    "                else:\n",
    "                    curr_frame = transform(prev_frame)\n",
    "                    prev_frame = curr_frame\n",
    "                    curr_frame = curr_frame.flatten(1).to(device)\n",
    "                    output, _ , trans_par = model(curr_frame, latent_rep)\n",
    "                loss = loss + (beta**i)*(F.mse_loss(output, curr_frame) + sparse_par*1/B*torch.norm(trans_par,1))\n",
    "            loss.backward()\n",
    "            optimizer.step()\n",
    "            \n",
    "            if batch_idx % opt_interval == 0:\n",
    "                for param in model.parameters():\n",
    "                    param.requires_grad = True\n",
    "                for param in model.transnet.parameters():\n",
    "                    param.requires_grad = False\n",
    "\n",
    "            if batch_idx % print_interval == 0:\n",
    "                print('Train Epoch: {} [{}/{} ({:.0f}%)]\\tLoss: {:.6f}'.format(\n",
    "                    epoch, batch_idx * len(data), len(train_loader.dataset),\n",
    "                    100. * batch_idx / len(train_loader), loss.item()))"
   ]
  },
  {
   "cell_type": "code",
   "execution_count": 35,
   "id": "3a46e5aa",
   "metadata": {},
   "outputs": [],
   "source": [
    "def train_enc(print_interval, model, device, train_loader, optimizer, epoch, movie_len, transform_set): #transforms is \n",
    "    model.train()\n",
    "    for batch_idx, (data, target) in enumerate(train_loader):\n",
    "        for i in range(movie_len):\n",
    "            optimizer.zero_grad()\n",
    "            if i == 0:\n",
    "                prev_frame =  curr_frame = data\n",
    "                transform = rand.choice(transform_set)\n",
    "                curr_frame = curr_frame.flatten(1).to(device)\n",
    "            else:\n",
    "                curr_frame = transform(prev_frame)\n",
    "                prev_frame = curr_frame\n",
    "                curr_frame = curr_frame.flatten(1).to(device)\n",
    "            output = model(curr_frame)\n",
    "            loss = F.mse_loss(output, curr_frame)# + torch.norm(trans_par,1)\n",
    "            loss.backward()\n",
    "            optimizer.step()\n",
    "\n",
    "        if batch_idx % print_interval == 0:\n",
    "            print('Train Epoch: {} [{}/{} ({:.0f}%)]\\tLoss: {:.6f}'.format(\n",
    "                epoch, batch_idx * len(data), len(train_loader.dataset),\n",
    "                100. * batch_idx / len(train_loader), loss.item()))"
   ]
  },
  {
   "cell_type": "code",
   "execution_count": 36,
   "id": "305250de",
   "metadata": {},
   "outputs": [],
   "source": [
    "hor_trans = transforms.Compose(\n",
    "    [transforms.RandomAffine(0, translate = (.4,0))])\n",
    "\n",
    "ver_trans = transforms.Compose(\n",
    "    [transforms.RandomAffine(0,translate = (0,.4))])\n",
    "\n",
    "\n",
    "transform_set = [hor_trans,ver_trans]"
   ]
  },
  {
   "cell_type": "code",
   "execution_count": 37,
   "id": "0a655a8c",
   "metadata": {},
   "outputs": [],
   "source": [
    "loader_transform = transforms.Compose(\n",
    "    [transforms.ToTensor(),\n",
    "     transforms.Lambda(lambda x: torch.clamp(x, min = 0)),\n",
    "     transforms.Lambda(lambda x: x/torch.amax(x))\n",
    "     ]\n",
    ")\n",
    "batch_size = 50\n",
    "#(Down)Load MNIST\n",
    "data_set = datasets.MNIST(root='./data', train=True, download=False, transform=loader_transform)\n",
    "\n",
    "#Create data loader\n",
    "data_loader = torch.utils.data.DataLoader(data_set, batch_size = batch_size, shuffle = True)\n"
   ]
  },
  {
   "cell_type": "code",
   "execution_count": 38,
   "id": "8264d773",
   "metadata": {},
   "outputs": [],
   "source": [
    "model_dis = make_model(28**2, latent_dim= 16, trans_dim = 2)"
   ]
  },
  {
   "cell_type": "code",
   "execution_count": 39,
   "id": "484a61b6",
   "metadata": {},
   "outputs": [],
   "source": [
    "# model_dis = make_autoenc(28**2, latent_dim= 16)"
   ]
  },
  {
   "cell_type": "code",
   "execution_count": 40,
   "id": "1e18457d",
   "metadata": {},
   "outputs": [],
   "source": [
    "device = torch.device(1)\n",
    "torch.cuda.set_device(1)\n",
    "model_dis = model_dis.to(device)\n",
    "optimizer = torch.optim.Adam(model_dis.parameters(), lr=0.001) #e-1\n"
   ]
  },
  {
   "cell_type": "code",
   "execution_count": 41,
   "id": "232869d0",
   "metadata": {
    "scrolled": true
   },
   "outputs": [
    {
     "name": "stdout",
     "output_type": "stream",
     "text": [
      "Train Epoch: 0 [0/60000 (0%)]\tLoss: 0.267783\n",
      "Train Epoch: 0 [10000/60000 (17%)]\tLoss: 0.161808\n",
      "Train Epoch: 0 [20000/60000 (33%)]\tLoss: 0.166965\n",
      "Train Epoch: 0 [30000/60000 (50%)]\tLoss: 0.144076\n",
      "Train Epoch: 0 [40000/60000 (67%)]\tLoss: 0.157869\n",
      "Train Epoch: 0 [50000/60000 (83%)]\tLoss: 0.124054\n",
      "Train Epoch: 1 [0/60000 (0%)]\tLoss: 0.177343\n",
      "Train Epoch: 1 [10000/60000 (17%)]\tLoss: 0.142044\n",
      "Train Epoch: 1 [20000/60000 (33%)]\tLoss: 0.174904\n",
      "Train Epoch: 1 [30000/60000 (50%)]\tLoss: 0.141094\n",
      "Train Epoch: 1 [40000/60000 (67%)]\tLoss: 0.190422\n",
      "Train Epoch: 1 [50000/60000 (83%)]\tLoss: 0.200936\n",
      "Train Epoch: 2 [0/60000 (0%)]\tLoss: 0.142530\n",
      "Train Epoch: 2 [10000/60000 (17%)]\tLoss: 0.146219\n",
      "Train Epoch: 2 [20000/60000 (33%)]\tLoss: 0.146362\n",
      "Train Epoch: 2 [30000/60000 (50%)]\tLoss: 0.155733\n",
      "Train Epoch: 2 [40000/60000 (67%)]\tLoss: 0.151140\n",
      "Train Epoch: 2 [50000/60000 (83%)]\tLoss: 0.148012\n",
      "Train Epoch: 3 [0/60000 (0%)]\tLoss: 0.169220\n",
      "Train Epoch: 3 [10000/60000 (17%)]\tLoss: 0.174859\n",
      "Train Epoch: 3 [20000/60000 (33%)]\tLoss: 0.170020\n",
      "Train Epoch: 3 [30000/60000 (50%)]\tLoss: 0.152033\n",
      "Train Epoch: 3 [40000/60000 (67%)]\tLoss: 0.125399\n",
      "Train Epoch: 3 [50000/60000 (83%)]\tLoss: 0.140058\n",
      "Train Epoch: 4 [0/60000 (0%)]\tLoss: 0.147325\n",
      "Train Epoch: 4 [10000/60000 (17%)]\tLoss: 0.124729\n",
      "Train Epoch: 4 [20000/60000 (33%)]\tLoss: 0.159268\n",
      "Train Epoch: 4 [30000/60000 (50%)]\tLoss: 0.121057\n",
      "Train Epoch: 4 [40000/60000 (67%)]\tLoss: 0.129364\n",
      "Train Epoch: 4 [50000/60000 (83%)]\tLoss: 0.150719\n",
      "Train Epoch: 5 [0/60000 (0%)]\tLoss: 0.115055\n",
      "Train Epoch: 5 [10000/60000 (17%)]\tLoss: 0.084621\n",
      "Train Epoch: 5 [20000/60000 (33%)]\tLoss: 0.143974\n",
      "Train Epoch: 5 [30000/60000 (50%)]\tLoss: 0.093515\n",
      "Train Epoch: 5 [40000/60000 (67%)]\tLoss: 0.107533\n",
      "Train Epoch: 5 [50000/60000 (83%)]\tLoss: 0.112531\n",
      "Train Epoch: 6 [0/60000 (0%)]\tLoss: 0.124730\n",
      "Train Epoch: 6 [10000/60000 (17%)]\tLoss: 0.124098\n",
      "Train Epoch: 6 [20000/60000 (33%)]\tLoss: 0.134982\n",
      "Train Epoch: 6 [30000/60000 (50%)]\tLoss: 0.103566\n",
      "Train Epoch: 6 [40000/60000 (67%)]\tLoss: 0.125438\n",
      "Train Epoch: 6 [50000/60000 (83%)]\tLoss: 0.129946\n",
      "Train Epoch: 7 [0/60000 (0%)]\tLoss: 0.114857\n",
      "Train Epoch: 7 [10000/60000 (17%)]\tLoss: 0.126871\n",
      "Train Epoch: 7 [20000/60000 (33%)]\tLoss: 0.104885\n",
      "Train Epoch: 7 [30000/60000 (50%)]\tLoss: 0.124397\n",
      "Train Epoch: 7 [40000/60000 (67%)]\tLoss: 0.122534\n",
      "Train Epoch: 7 [50000/60000 (83%)]\tLoss: 0.125978\n",
      "Train Epoch: 8 [0/60000 (0%)]\tLoss: 0.133254\n",
      "Train Epoch: 8 [10000/60000 (17%)]\tLoss: 0.096470\n",
      "Train Epoch: 8 [20000/60000 (33%)]\tLoss: 0.122992\n",
      "Train Epoch: 8 [30000/60000 (50%)]\tLoss: 0.128855\n",
      "Train Epoch: 8 [40000/60000 (67%)]\tLoss: 0.097756\n",
      "Train Epoch: 8 [50000/60000 (83%)]\tLoss: 0.104275\n",
      "Train Epoch: 9 [0/60000 (0%)]\tLoss: 0.115028\n",
      "Train Epoch: 9 [10000/60000 (17%)]\tLoss: 0.111866\n",
      "Train Epoch: 9 [20000/60000 (33%)]\tLoss: 0.102705\n",
      "Train Epoch: 9 [30000/60000 (50%)]\tLoss: 0.123193\n",
      "Train Epoch: 9 [40000/60000 (67%)]\tLoss: 0.102200\n",
      "Train Epoch: 9 [50000/60000 (83%)]\tLoss: 0.108799\n"
     ]
    }
   ],
   "source": [
    "train(200, model_dis, device, data_loader, optimizer, epoch = 10, movie_len = 3, transform_set = transform_set, sparse_par = 1e-2, opt_interval = 4, beta = .8)"
   ]
  },
  {
   "cell_type": "code",
   "execution_count": 42,
   "id": "2dc876f6",
   "metadata": {},
   "outputs": [],
   "source": [
    "model_dis.eval()\n",
    "data, _ = next(iter(data_loader))\n",
    "out_frames = torch.zeros(batch_size, 3, 28**2)\n",
    "true_frames = torch.zeros(batch_size,3,28,28)\n",
    "for i in range(3):\n",
    "    if i == 0:\n",
    "        transform = rand.choice(transform_set)\n",
    "        prev_frame = curr_frame = data\n",
    "        true_frames[:,i,:,:] = curr_frame.squeeze(1)\n",
    "        curr_frame = curr_frame.flatten(1).to(device)\n",
    "        out_frames[:,i,:], latent_rep, _ = model_dis(curr_frame)\n",
    "#         latent_rep = latent_rep.detach().clone()\n",
    "#         latent_rep = latent_rep.to(device)\n",
    "    else:\n",
    "        curr_frame = transform(prev_frame)\n",
    "        true_frames[:,i,:,:] = curr_frame.squeeze(1)\n",
    "        prev_frame = curr_frame\n",
    "        curr_frame = curr_frame.flatten(1).to(device)\n",
    "        out_frames[:,i,:], out_rep, _ = model_dis(curr_frame, latent_rep)\n",
    "\n",
    "out_frames = out_frames.reshape(batch_size,3,28,28)\n",
    "out_frames = out_frames.detach()"
   ]
  },
  {
   "cell_type": "code",
   "execution_count": 30,
   "id": "03c6bb54",
   "metadata": {},
   "outputs": [],
   "source": [
    "import matplotlib.pyplot as plt\n"
   ]
  },
  {
   "cell_type": "code",
   "execution_count": 31,
   "id": "ebb25a22",
   "metadata": {},
   "outputs": [
    {
     "data": {
      "text/plain": [
       "(array([[28.,  0.,  0.,  0.],\n",
       "        [28.,  0.,  0.,  0.],\n",
       "        [25.,  2.,  1.,  0.],\n",
       "        [24.,  0.,  1.,  3.],\n",
       "        [23.,  1.,  0.,  4.],\n",
       "        [23.,  0.,  1.,  4.],\n",
       "        [23.,  1.,  0.,  4.],\n",
       "        [24.,  0.,  1.,  3.],\n",
       "        [23.,  0.,  2.,  3.],\n",
       "        [23.,  1.,  1.,  3.],\n",
       "        [23.,  1.,  0.,  4.],\n",
       "        [23.,  0.,  1.,  4.],\n",
       "        [17.,  3.,  2.,  6.],\n",
       "        [16.,  1.,  1., 10.],\n",
       "        [13.,  2.,  0., 13.],\n",
       "        [13.,  2.,  1., 12.],\n",
       "        [15.,  2.,  0., 11.],\n",
       "        [16.,  1.,  0., 11.],\n",
       "        [12.,  3.,  1., 12.],\n",
       "        [13.,  1.,  1., 13.],\n",
       "        [15.,  2.,  1., 10.],\n",
       "        [20.,  2.,  0.,  6.],\n",
       "        [28.,  0.,  0.,  0.],\n",
       "        [28.,  0.,  0.,  0.],\n",
       "        [28.,  0.,  0.,  0.],\n",
       "        [28.,  0.,  0.,  0.],\n",
       "        [28.,  0.,  0.,  0.],\n",
       "        [28.,  0.,  0.,  0.]]),\n",
       " array([0.  , 0.25, 0.5 , 0.75, 1.  ], dtype=float32),\n",
       " <a list of 28 BarContainer objects>)"
      ]
     },
     "execution_count": 31,
     "metadata": {},
     "output_type": "execute_result"
    },
    {
     "data": {
      "image/png": "[encoded data removed]",
      "text/plain": [
       "<Figure size 432x288 with 1 Axes>"
      ]
     },
     "metadata": {
      "needs_background": "light"
     },
     "output_type": "display_data"
    }
   ],
   "source": [
    "ix = 0\n",
    "plt.hist(true_frames[ix,0],bins=4)"
   ]
  },
  {
   "cell_type": "code",
   "execution_count": 32,
   "id": "1efbf9bd",
   "metadata": {},
   "outputs": [
    {
     "data": {
      "text/plain": [
       "(array([[28.,  0.,  0.,  0.],\n",
       "        [28.,  0.,  0.,  0.],\n",
       "        [25.,  2.,  1.,  0.],\n",
       "        [24.,  0.,  1.,  3.],\n",
       "        [23.,  1.,  0.,  4.],\n",
       "        [23.,  0.,  1.,  4.],\n",
       "        [23.,  1.,  0.,  4.],\n",
       "        [24.,  0.,  1.,  3.],\n",
       "        [23.,  0.,  2.,  3.],\n",
       "        [23.,  1.,  1.,  3.],\n",
       "        [23.,  1.,  0.,  4.],\n",
       "        [23.,  0.,  1.,  4.],\n",
       "        [17.,  3.,  2.,  6.],\n",
       "        [16.,  1.,  1., 10.],\n",
       "        [13.,  2.,  0., 13.],\n",
       "        [13.,  2.,  1., 12.],\n",
       "        [15.,  2.,  0., 11.],\n",
       "        [16.,  1.,  0., 11.],\n",
       "        [12.,  3.,  1., 12.],\n",
       "        [13.,  1.,  1., 13.],\n",
       "        [15.,  2.,  1., 10.],\n",
       "        [20.,  2.,  0.,  6.],\n",
       "        [28.,  0.,  0.,  0.],\n",
       "        [28.,  0.,  0.,  0.],\n",
       "        [28.,  0.,  0.,  0.],\n",
       "        [28.,  0.,  0.,  0.],\n",
       "        [28.,  0.,  0.,  0.],\n",
       "        [28.,  0.,  0.,  0.]]),\n",
       " array([0.  , 0.25, 0.5 , 0.75, 1.  ], dtype=float32),\n",
       " <a list of 28 BarContainer objects>)"
      ]
     },
     "execution_count": 32,
     "metadata": {},
     "output_type": "execute_result"
    },
    {
     "data": {
      "image/png": "[encoded data removed]",
      "text/plain": [
       "<Figure size 432x288 with 1 Axes>"
      ]
     },
     "metadata": {
      "needs_background": "light"
     },
     "output_type": "display_data"
    }
   ],
   "source": [
    "plt.hist(true_frames[ix,1], bins=4)"
   ]
  },
  {
   "cell_type": "code",
   "execution_count": 33,
   "id": "f15a40d5",
   "metadata": {},
   "outputs": [
    {
     "data": {
      "image/png": "[encoded data removed]",
      "text/plain": [
       "<Figure size 1440x1440 with 6 Axes>"
      ]
     },
     "metadata": {
      "needs_background": "light"
     },
     "output_type": "display_data"
    }
   ],
   "source": [
    "ix = 0\n",
    "fig = plt.figure(figsize=(20,20)) #image sequence from dataset\n",
    "for i in range(3):\n",
    "        fig.add_subplot(2,3,i+1)\n",
    "        plt.imshow(true_frames[ix,i],cmap = \"Greys\")\n",
    "        fig.add_subplot(2,3,i+4)\n",
    "        plt.imshow(out_frames[ix,i], cmap = 'Greys')"
   ]
  },
  {
   "cell_type": "code",
   "execution_count": 378,
   "id": "599d6f26",
   "metadata": {},
   "outputs": [
    {
     "data": {
      "text/plain": [
       "torch.Size([50, 28, 28])"
      ]
     },
     "execution_count": 378,
     "metadata": {},
     "output_type": "execute_result"
    }
   ],
   "source": [
    "true_frames[:,0,:,:].shape"
   ]
  },
  {
   "cell_type": "code",
   "execution_count": null,
   "id": "16438a8c",
   "metadata": {},
   "outputs": [],
   "source": []
  }
 ],
 "metadata": {
  "kernelspec": {
   "display_name": "Python 3",
   "language": "python",
   "name": "python3"
  },
  "language_info": {
   "codemirror_mode": {
    "name": "ipython",
    "version": 3
   },
   "file_extension": ".py",
   "mimetype": "text/x-python",
   "name": "python",
   "nbconvert_exporter": "python",
   "pygments_lexer": "ipython3",
   "version": "3.8.8"
  }
 },
 "nbformat": 4,
 "nbformat_minor": 5
}
