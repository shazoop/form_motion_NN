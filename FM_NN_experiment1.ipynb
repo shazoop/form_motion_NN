{
 "cells": [
  {
   "cell_type": "code",
   "execution_count": 2,
   "id": "b290aeb0",
   "metadata": {},
   "outputs": [],
   "source": [
    "import numpy as np\n",
    "import torch\n",
    "import torch.nn as nn\n",
    "import torch.nn.functional as F"
   ]
  },
  {
   "cell_type": "code",
   "execution_count": 24,
   "id": "b9173433",
   "metadata": {},
   "outputs": [],
   "source": [
    "class Disentangler(nn.Module): \n",
    "    def __init__(self,encoder,decoder, transnet):\n",
    "        super(Disentangler,self).__init__()\n",
    "        self.encoder = encoder\n",
    "        self.decoder = decoder\n",
    "        self.transnet = transnet #estimates trans parameters, contains exponential weights, creates matrices\n",
    "        \n",
    "    def forward(self,x, x0=None):\n",
    "        if x0 == None:\n",
    "            x0 = self.encoder(x)\n",
    "        x = self.transnet(x,x0)\n",
    "        x = self.decoder(x)\n",
    "        return x\n",
    "\n",
    "class Encoder(nn.Module):\n",
    "    def __init__(self, og_dim, latent_dim):\n",
    "        assert latent_dim <= og_dim, 'latent space must have lower dimension'\n",
    "        super(Encoder,self).__init__()\n",
    "        self.og_dim = og_dim\n",
    "        self.latent_dim = latent_dim\n",
    "        self.fc1 = nn.Linear(og_dim, max(latent_dim, og_dim//16))\n",
    "        self.fc2 = nn.Linear(max(latent_dim, og_dim//16), latent_dim)\n",
    "    \n",
    "    def forward(self,x):\n",
    "        x = self.fc1(x)\n",
    "        x = F.relu(x)\n",
    "        x = self.fc2(x)\n",
    "        x = F.relu(x)\n",
    "        return x\n",
    "\n",
    "class Decoder(nn.Module):  \n",
    "    def __init__(self, og_dim, latent_dim):\n",
    "        assert latent_dim <= og_dim, 'latent space must have lower dimension'\n",
    "        super(Decoder,self).__init__()\n",
    "        self.og_dim = og_dim\n",
    "        self.latent_dim = latent_dim\n",
    "        self.fc1 = nn.Linear(latent_dim, max(latent_dim, og_dim//16))\n",
    "        self.fc2 = nn.Linear(max(latent_dim, og_dim//16), og_dim)\n",
    "    \n",
    "    def forward(self,x):\n",
    "        x = self.fc1(x)\n",
    "        x = F.relu(x)\n",
    "        x = self.fc2(x)\n",
    "        x = F.relu(x)\n",
    "        return x\n",
    "    \n",
    "class Transnet(nn.Module):\n",
    "    def __init__(self, og_dim, latent_dim, k_sparse):\n",
    "        super(Transnet,self).__init__()\n",
    "        self.og_dim = og_dim\n",
    "        self.latent_dim = latent_dim\n",
    "        self.ttl_dim = og_dim + latent_dim\n",
    "        self.k_sparse = k_sparse\n",
    "        self.fc1 = nn.Linear(ttl_dim, max(latent_dim, ttl_dim//8))\n",
    "        self.fc2 = nn.Linear(max(latent_dim, ttl_dim//8), max(latent_dim, ttl_dim//32))\n",
    "        self.fc3 = nn.Linear(max(latent_dim, ttl_dim//32), latent_dim)\n",
    "    \n",
    "    def k_mask(x,self):\n",
    "        k = self.k_sparse\n",
    "        topk, ix = torch.topk(x, k=k)\n",
    "        return torch.zeros_like(x).scatter_(1,ix,topk)\n",
    "    \n",
    "    def forward(self,x,x0):\n",
    "        x1 = torch.cat((x,x0),dim = 1) #create (B, N+M) tensor\n",
    "        x1 = self.fc1(x1)\n",
    "        x1 = F.relu(x1)\n",
    "        x1 = self.fc2(x1)\n",
    "        x1 = F.relu(x1)\n",
    "        x1 = self.fc3(x1)\n",
    "        x1 = F.relu(x1)\n",
    "        return torch.exp(self.k_mask(x1))*x0\n",
    "        \n",
    "    "
   ]
  },
  {
   "cell_type": "code",
   "execution_count": 25,
   "id": "6f50872c",
   "metadata": {},
   "outputs": [],
   "source": [
    "def make_model(og_dim, latent_dim, k_sparse):\n",
    "    enc = Encoder(og_dim, latent_dim)\n",
    "    dec = Decoder(og_dim, latent_dim)\n",
    "    trans = Transnet(og_dim, latent_dim, k_sparse)\n",
    "    model = Disentangler(enc,dec,trans)\n",
    "    return model"
   ]
  },
  {
   "cell_type": "code",
   "execution_count": null,
   "id": "985be6bf",
   "metadata": {},
   "outputs": [],
   "source": [
    "def train()"
   ]
  }
 ],
 "metadata": {
  "kernelspec": {
   "display_name": "Python 3",
   "language": "python",
   "name": "python3"
  },
  "language_info": {
   "codemirror_mode": {
    "name": "ipython",
    "version": 3
   },
   "file_extension": ".py",
   "mimetype": "text/x-python",
   "name": "python",
   "nbconvert_exporter": "python",
   "pygments_lexer": "ipython3",
   "version": "3.8.8"
  }
 },
 "nbformat": 4,
 "nbformat_minor": 5
}
