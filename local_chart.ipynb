{
 "cells": [
  {
   "cell_type": "markdown",
   "id": "50509adb",
   "metadata": {},
   "source": [
    "Instead of latent code as input to transnet, use first image instead."
   ]
  },
  {
   "cell_type": "code",
   "execution_count": 1,
   "id": "90a38db6",
   "metadata": {},
   "outputs": [],
   "source": [
    "import numpy as np\n",
    "import torch\n",
    "import torch.nn as nn\n",
    "import torch.nn.functional as F\n",
    "import torchvision\n",
    "import torchvision.datasets as datasets\n",
    "import torchvision.transforms as transforms\n",
    "import random as rand\n",
    "import copy"
   ]
  },
  {
   "cell_type": "code",
   "execution_count": 2,
   "id": "8630789f",
   "metadata": {},
   "outputs": [],
   "source": [
    "class Disentangler(nn.Module): \n",
    "    def __init__(self,encoder,decoder, transnet):\n",
    "        super(Disentangler,self).__init__()\n",
    "        self.encoder = encoder\n",
    "        self.decoder = decoder\n",
    "        self.transnet = transnet #estimates trans parameters, contains exponential weights, creates matrices\n",
    "        \n",
    "    def forward(self,x, x0=None):\n",
    "        if x0 == None:\n",
    "            y = self.encoder(x)\n",
    "            s = torch.zeros(x.size(0), self.encoder.latent_dim)\n",
    "        else:\n",
    "            y, s = self.transnet(x,x0)\n",
    "        z = self.decoder(y)\n",
    "        return z,y,s\n",
    "\n",
    "class Encoder(nn.Module):\n",
    "    def __init__(self, og_dim, latent_dim): #if images are nXn, og_dim = n^2.\n",
    "        assert latent_dim <= og_dim, 'latent space must have lower dimension'\n",
    "        super(Encoder,self).__init__()\n",
    "        self.og_dim = og_dim\n",
    "        self.latent_dim = latent_dim\n",
    "        self.fc1 = nn.Linear(og_dim, max(latent_dim, og_dim//4))\n",
    "        self.fc2 = nn.Linear(max(latent_dim, og_dim//4), max(latent_dim, og_dim//16))\n",
    "        self.fc3 = nn.Linear(max(latent_dim, og_dim//16), latent_dim)\n",
    "    \n",
    "    def forward(self,x):\n",
    "        x = self.fc1(x)\n",
    "        x = F.relu(x)\n",
    "        x = self.fc2(x)\n",
    "        x = F.relu(x)\n",
    "        x = self.fc3(x)\n",
    "        return x\n",
    "\n",
    "class Decoder(nn.Module):  \n",
    "    def __init__(self, og_dim, latent_dim):\n",
    "        assert latent_dim <= og_dim, 'latent space must have lower dimension'\n",
    "        super(Decoder,self).__init__()\n",
    "        self.og_dim = og_dim\n",
    "        self.latent_dim = latent_dim\n",
    "        self.fc1 = nn.Linear(latent_dim, max(latent_dim, og_dim//16))\n",
    "        self.fc2 = nn.Linear(max(latent_dim, og_dim//16), max(latent_dim, og_dim//4))\n",
    "        self.fc3 = nn.Linear(max(latent_dim, og_dim//4), og_dim)\n",
    "    \n",
    "    def forward(self,x):\n",
    "        x = self.fc1(x)\n",
    "        x = F.relu(x)\n",
    "        x = self.fc2(x)\n",
    "        x = F.relu(x)\n",
    "        x = self.fc3(x)\n",
    "        return x\n",
    "    \n",
    "class Transnet(nn.Module):\n",
    "    def __init__(self, og_dim, latent_dim, trans_dim):\n",
    "        super(Transnet,self).__init__()\n",
    "        assert latent_dim <= og_dim, 'latent space must have lower dimension'\n",
    "        assert trans_dim <= latent_dim, 'translation dimension must be subspace'\n",
    "        self.og_dim = og_dim\n",
    "        self.latent_dim = latent_dim\n",
    "        self.trans_dim = trans_dim\n",
    "        ttl_dim = 2*og_dim\n",
    "#         ttl_dim = og_dim + latent_dim\n",
    "        self.ttl_dim = ttl_dim\n",
    "        self.fc1 = nn.Linear(ttl_dim, max(latent_dim, ttl_dim//4))\n",
    "        self.fc2 = nn.Linear(max(latent_dim, ttl_dim//4), max(latent_dim, ttl_dim//16))\n",
    "        self.fc3 = nn.Linear(max(latent_dim, ttl_dim//16), max(latent_dim, ttl_dim//64))\n",
    "        self.fc4 = nn.Linear(max(latent_dim, ttl_dim//64), trans_dim)\n",
    "        \n",
    "    def forward(self,x,x0):\n",
    "        x1 = torch.cat((x,x0),dim = 1) #create (B, N+M) tensor\n",
    "        x1 = self.fc1(x1)\n",
    "        x1 = F.relu(x1)\n",
    "        x1 = self.fc2(x1)\n",
    "        x1 = F.relu(x1)\n",
    "        x1 = self.fc3(x1)\n",
    "        x1 = F.relu(x1)\n",
    "        x1 = self.fc4(x1)\n",
    "        trans = torch.cat((x1,torch.zeros(x.size(0),self.latent_dim - self.trans_dim).to(device)), dim = 1)\n",
    "        x0 = x0 + trans\n",
    "        return x0, x1\n",
    "        \n",
    "class Autoencoder(nn.Module): \n",
    "    def __init__(self,encoder,decoder):\n",
    "        super(Autoencoder,self).__init__()\n",
    "        self.encoder = encoder\n",
    "        self.decoder = decoder\n",
    "        \n",
    "    def forward(self,x, x0=None):    \n",
    "        x=self.encoder(x)\n",
    "        x = self.decoder(x)\n",
    "        return x\n",
    "   "
   ]
  },
  {
   "cell_type": "code",
   "execution_count": 3,
   "id": "8aa69a0b",
   "metadata": {},
   "outputs": [],
   "source": [
    "def make_model(og_dim, latent_dim, trans_dim):\n",
    "    enc = Encoder(og_dim, latent_dim)\n",
    "    dec = Decoder(og_dim, latent_dim)\n",
    "    trans = Transnet(og_dim, latent_dim, trans_dim)\n",
    "    model = Disentangler(enc,dec,trans)\n",
    "    return model\n",
    "\n",
    "def make_autoenc(og_dim,latent_dim):\n",
    "    enc = Encoder(og_dim, latent_dim)\n",
    "    dec = Decoder(og_dim, latent_dim)\n",
    "    model = Autoencoder(enc,dec)\n",
    "    return model\n"
   ]
  },
  {
   "cell_type": "code",
   "execution_count": 703,
   "id": "44fec6c2",
   "metadata": {},
   "outputs": [],
   "source": [
    "def train(print_interval, model, device, train_loader, optimizer, epoch, movie_len, transform_set, beta = .7, sparse_par = 1e-2, opt_interval = 6): #transforms is \n",
    "    model.train()\n",
    "    for epoch in range(epoch):\n",
    "#         train_transnet = True\n",
    "        for batch_idx, (data, target) in enumerate(train_loader):\n",
    "            B = data.size(0)\n",
    "#             if batch_idx % opt_interval == 0:\n",
    "#                 for param in model.parameters():\n",
    "#                     param.requires_grad = False\n",
    "#                 for param in model.transnet.parameters():\n",
    "#                     param.requires_grad = True\n",
    "\n",
    "#             else:\n",
    "#                     for param in model.parameters():\n",
    "#                         param.requires_grad = True\n",
    "#                     for param in model.transnet.parameters():\n",
    "#                         param.requires_grad = False\n",
    "#                 if train_transnet == True:\n",
    "#                     for param in model.parameters():\n",
    "#                         param.requires_grad = True\n",
    "#                     for param in model.transnet.parameters():\n",
    "#                         param.requires_grad = False\n",
    "#                     train_transnet == False\n",
    "#                 else:\n",
    "#                     for param in model.parameters():\n",
    "#                         param.requires_grad = False\n",
    "#                     for param in model.transnet.parameters():\n",
    "#                         param.requires_grad = True\n",
    "#                     train_transnet == True\n",
    "            loss = 0\n",
    "            optimizer.zero_grad()\n",
    "            for i in range(movie_len):\n",
    "                if i == 0:\n",
    "                    transform = rand.choice(transform_set)\n",
    "                    prev_frame = curr_frame = data\n",
    "                    curr_frame = curr_frame.flatten(1).to(device)\n",
    "                    output, latent_rep, trans_par = model(curr_frame)\n",
    "                    first_frame = curr_frame.detach().clone().to(device)\n",
    "#                     latent_rep = latent_rep.detach().clone()\n",
    "#                     latent_rep = latent_rep.to(device)\n",
    "                else:\n",
    "                    curr_frame = transform(prev_frame)\n",
    "                    prev_frame = curr_frame\n",
    "                    curr_frame = curr_frame.flatten(1).to(device)\n",
    "                    output, _ , trans_par = model(curr_frame, first_frame)\n",
    "                loss = loss + (beta**i)*(F.mse_loss(output, curr_frame) + sparse_par*1/B*torch.norm(trans_par,1))\n",
    "            loss.backward()\n",
    "            optimizer.step()\n",
    "            \n",
    "            if batch_idx % opt_interval == 0:\n",
    "                for param in model.parameters():\n",
    "                    param.requires_grad = True\n",
    "                for param in model.transnet.parameters():\n",
    "                    param.requires_grad = False\n",
    "\n",
    "            if batch_idx % print_interval == 0:\n",
    "                print('Train Epoch: {} [{}/{} ({:.0f}%)]\\tLoss: {:.6f}'.format(\n",
    "                    epoch, batch_idx * len(data), len(train_loader.dataset),\n",
    "                    100. * batch_idx / len(train_loader), loss.item()))"
   ]
  },
  {
   "cell_type": "code",
   "execution_count": 704,
   "id": "3a46e5aa",
   "metadata": {},
   "outputs": [],
   "source": [
    "def train_enc(print_interval, model, device, train_loader, optimizer, epoch, movie_len, transform_set): #transforms is \n",
    "    model.train()\n",
    "    for batch_idx, (data, target) in enumerate(train_loader):\n",
    "        for i in range(movie_len):\n",
    "            optimizer.zero_grad()\n",
    "            if i == 0:\n",
    "                prev_frame =  curr_frame = data\n",
    "                transform = rand.choice(transform_set)\n",
    "                curr_frame = curr_frame.flatten(1).to(device)\n",
    "            else:\n",
    "                curr_frame = transform(prev_frame)\n",
    "                prev_frame = curr_frame\n",
    "                curr_frame = curr_frame.flatten(1).to(device)\n",
    "            output = model(curr_frame)\n",
    "            loss = F.mse_loss(output, curr_frame)# + torch.norm(trans_par,1)\n",
    "            loss.backward()\n",
    "            optimizer.step()\n",
    "\n",
    "        if batch_idx % print_interval == 0:\n",
    "            print('Train Epoch: {} [{}/{} ({:.0f}%)]\\tLoss: {:.6f}'.format(\n",
    "                epoch, batch_idx * len(data), len(train_loader.dataset),\n",
    "                100. * batch_idx / len(train_loader), loss.item()))"
   ]
  },
  {
   "cell_type": "code",
   "execution_count": 705,
   "id": "305250de",
   "metadata": {},
   "outputs": [],
   "source": [
    "hor_trans = transforms.Compose(\n",
    "    [transforms.RandomAffine(0, translate = (.4,0))])\n",
    "\n",
    "ver_trans = transforms.Compose(\n",
    "    [transforms.RandomAffine(0,translate = (0,.4))])\n",
    "\n",
    "\n",
    "transform_set = [hor_trans,ver_trans]"
   ]
  },
  {
   "cell_type": "code",
   "execution_count": 706,
   "id": "0a655a8c",
   "metadata": {},
   "outputs": [],
   "source": [
    "loader_transform = transforms.Compose(\n",
    "    [transforms.ToTensor(),\n",
    "     transforms.Lambda(lambda x: torch.clamp(x, min = 0)),\n",
    "     transforms.Lambda(lambda x: x/torch.amax(x))\n",
    "     ]\n",
    ")\n",
    "batch_size = 50\n",
    "#(Down)Load MNIST\n",
    "data_set = datasets.MNIST(root='./data', train=True, download=False, transform=loader_transform)\n",
    "\n",
    "#Create data loader\n",
    "data_loader = torch.utils.data.DataLoader(data_set, batch_size = batch_size, shuffle = True)\n"
   ]
  },
  {
   "cell_type": "code",
   "execution_count": 707,
   "id": "8264d773",
   "metadata": {},
   "outputs": [],
   "source": [
    "model_dis = make_model(28**2, latent_dim= 16, trans_dim = 2)"
   ]
  },
  {
   "cell_type": "code",
   "execution_count": 708,
   "id": "484a61b6",
   "metadata": {},
   "outputs": [],
   "source": [
    "# model_dis = make_autoenc(28**2, latent_dim= 16)"
   ]
  },
  {
   "cell_type": "code",
   "execution_count": 709,
   "id": "1e18457d",
   "metadata": {},
   "outputs": [],
   "source": [
    "device = torch.device(1)\n",
    "torch.cuda.set_device(1)\n",
    "model_dis = model_dis.to(device)\n",
    "optimizer = torch.optim.Adam(model_dis.parameters(), lr=0.001) #e-1\n"
   ]
  },
  {
   "cell_type": "code",
   "execution_count": 711,
   "id": "232869d0",
   "metadata": {
    "scrolled": true
   },
   "outputs": [],
   "source": [
    "train(200, model_dis, device, data_loader, optimizer, epoch = 10, movie_len = 3, transform_set = transform_set, sparse_par = 1e-2, opt_interval = 4, beta = .8)"
   ]
  },
  {
   "cell_type": "code",
   "execution_count": 690,
   "id": "2dc876f6",
   "metadata": {},
   "outputs": [],
   "source": [
    "model_dis.eval()\n",
    "data, _ = next(iter(data_loader))\n",
    "out_frames = torch.zeros(batch_size, 3, 28**2)\n",
    "true_frames = torch.zeros(batch_size,3,28,28)\n",
    "for i in range(1):\n",
    "    if i == 0:\n",
    "        transform = rand.choice(transform_set)\n",
    "        prev_frame = curr_frame = data\n",
    "        true_frames[:,i,:,:] = curr_frame.squeeze(1)\n",
    "        curr_frame = curr_frame.flatten(1).to(device)\n",
    "        out_frames[:,i,:], latent_rep, _ = model_dis(curr_frame)\n",
    "#         latent_rep = latent_rep.detach().clone()\n",
    "#         latent_rep = latent_rep.to(device)\n",
    "    else:\n",
    "        curr_frame = transform(prev_frame)\n",
    "        true_frames[:,i,:,:] = curr_frame.squeeze(1)\n",
    "        prev_frame = curr_frame\n",
    "        curr_frame = curr_frame.flatten(1).to(device)\n",
    "        out_frames[:,i,:], out_rep, _ = model_dis(curr_frame, latent_rep)\n",
    "\n",
    "out_frames = out_frames.reshape(batch_size,3,28,28)\n",
    "out_frames = out_frames.detach()"
   ]
  },
  {
   "cell_type": "code",
   "execution_count": 661,
   "id": "03c6bb54",
   "metadata": {},
   "outputs": [],
   "source": [
    "import matplotlib.pyplot as plt\n"
   ]
  },
  {
   "cell_type": "code",
   "execution_count": 662,
   "id": "ebb25a22",
   "metadata": {},
   "outputs": [
    {
     "data": {
      "text/plain": [
       "(array([[28.,  0.,  0.,  0.],\n",
       "        [28.,  0.,  0.,  0.],\n",
       "        [28.,  0.,  0.,  0.],\n",
       "        [28.,  0.,  0.,  0.],\n",
       "        [24.,  1.,  1.,  2.],\n",
       "        [21.,  2.,  4.,  1.],\n",
       "        [24.,  1.,  2.,  1.],\n",
       "        [25.,  2.,  1.,  0.],\n",
       "        [26.,  1.,  0.,  1.],\n",
       "        [26.,  1.,  0.,  1.],\n",
       "        [26.,  1.,  0.,  1.],\n",
       "        [25.,  1.,  0.,  2.],\n",
       "        [23.,  1.,  3.,  1.],\n",
       "        [26.,  1.,  0.,  1.],\n",
       "        [26.,  0.,  1.,  1.],\n",
       "        [26.,  0.,  1.,  1.],\n",
       "        [26.,  1.,  0.,  1.],\n",
       "        [27.,  0.,  0.,  1.],\n",
       "        [27.,  0.,  0.,  1.],\n",
       "        [26.,  0.,  1.,  1.],\n",
       "        [26.,  0.,  0.,  2.],\n",
       "        [25.,  1.,  1.,  1.],\n",
       "        [21.,  3.,  2.,  2.],\n",
       "        [22.,  1.,  2.,  3.],\n",
       "        [28.,  0.,  0.,  0.],\n",
       "        [28.,  0.,  0.,  0.],\n",
       "        [28.,  0.,  0.,  0.],\n",
       "        [28.,  0.,  0.,  0.]]),\n",
       " array([0.  , 0.25, 0.5 , 0.75, 1.  ], dtype=float32),\n",
       " <a list of 28 BarContainer objects>)"
      ]
     },
     "execution_count": 662,
     "metadata": {},
     "output_type": "execute_result"
    },
    {
     "data": {
      "image/png": "[encoded data removed]",
      "text/plain": [
       "<Figure size 432x288 with 1 Axes>"
      ]
     },
     "metadata": {
      "needs_background": "light"
     },
     "output_type": "display_data"
    }
   ],
   "source": [
    "plt.hist(true_frames[ix,0],bins=4)"
   ]
  },
  {
   "cell_type": "code",
   "execution_count": 663,
   "id": "1efbf9bd",
   "metadata": {},
   "outputs": [
    {
     "data": {
      "text/plain": [
       "(array([[ 0.,  0., 28.,  0.],\n",
       "        [ 0.,  0., 28.,  0.],\n",
       "        [ 0.,  0., 28.,  0.],\n",
       "        [ 0.,  0., 28.,  0.],\n",
       "        [ 0.,  0., 28.,  0.],\n",
       "        [ 0.,  0., 28.,  0.],\n",
       "        [ 0.,  0., 28.,  0.],\n",
       "        [ 0.,  0., 28.,  0.],\n",
       "        [ 0.,  0., 28.,  0.],\n",
       "        [ 0.,  0., 28.,  0.],\n",
       "        [ 0.,  0., 28.,  0.],\n",
       "        [ 0.,  0., 28.,  0.],\n",
       "        [ 0.,  0., 28.,  0.],\n",
       "        [ 0.,  0., 28.,  0.],\n",
       "        [ 0.,  0., 28.,  0.],\n",
       "        [ 0.,  0., 28.,  0.],\n",
       "        [ 0.,  0., 28.,  0.],\n",
       "        [ 0.,  0., 28.,  0.],\n",
       "        [ 0.,  0., 28.,  0.],\n",
       "        [ 0.,  0., 28.,  0.],\n",
       "        [ 0.,  0., 28.,  0.],\n",
       "        [ 0.,  0., 28.,  0.],\n",
       "        [ 0.,  0., 28.,  0.],\n",
       "        [ 0.,  0., 28.,  0.],\n",
       "        [ 0.,  0., 28.,  0.],\n",
       "        [ 0.,  0., 28.,  0.],\n",
       "        [ 0.,  0., 28.,  0.],\n",
       "        [ 0.,  0., 28.,  0.]]),\n",
       " array([-0.5 , -0.25,  0.  ,  0.25,  0.5 ], dtype=float32),\n",
       " <a list of 28 BarContainer objects>)"
      ]
     },
     "execution_count": 663,
     "metadata": {},
     "output_type": "execute_result"
    },
    {
     "data": {
      "image/png": "[encoded data removed]",
      "text/plain": [
       "<Figure size 432x288 with 1 Axes>"
      ]
     },
     "metadata": {
      "needs_background": "light"
     },
     "output_type": "display_data"
    }
   ],
   "source": [
    "plt.hist(true_frames[ix,1], bins=4)"
   ]
  },
  {
   "cell_type": "code",
   "execution_count": 664,
   "id": "f15a40d5",
   "metadata": {},
   "outputs": [
    {
     "data": {
      "image/png": "[encoded data removed]",
      "text/plain": [
       "<Figure size 1440x1440 with 6 Axes>"
      ]
     },
     "metadata": {
      "needs_background": "light"
     },
     "output_type": "display_data"
    }
   ],
   "source": [
    "ix = 0\n",
    "fig = plt.figure(figsize=(20,20)) #image sequence from dataset\n",
    "for i in range(3):\n",
    "        fig.add_subplot(2,3,i+1)\n",
    "        plt.imshow(true_frames[ix,i],cmap = \"Greys\")\n",
    "        fig.add_subplot(2,3,i+4)\n",
    "        plt.imshow(out_frames[ix,i], cmap = 'Greys')"
   ]
  },
  {
   "cell_type": "code",
   "execution_count": 378,
   "id": "599d6f26",
   "metadata": {},
   "outputs": [
    {
     "data": {
      "text/plain": [
       "torch.Size([50, 28, 28])"
      ]
     },
     "execution_count": 378,
     "metadata": {},
     "output_type": "execute_result"
    }
   ],
   "source": [
    "true_frames[:,0,:,:].shape"
   ]
  },
  {
   "cell_type": "code",
   "execution_count": null,
   "id": "16438a8c",
   "metadata": {},
   "outputs": [],
   "source": []
  }
 ],
 "metadata": {
  "kernelspec": {
   "display_name": "Python 3",
   "language": "python",
   "name": "python3"
  },
  "language_info": {
   "codemirror_mode": {
    "name": "ipython",
    "version": 3
   },
   "file_extension": ".py",
   "mimetype": "text/x-python",
   "name": "python",
   "nbconvert_exporter": "python",
   "pygments_lexer": "ipython3",
   "version": "3.8.8"
  }
 },
 "nbformat": 4,
 "nbformat_minor": 5
}
